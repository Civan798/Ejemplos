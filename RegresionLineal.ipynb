{
  "nbformat": 4,
  "nbformat_minor": 0,
  "metadata": {
    "colab": {
      "name": "RegresionLineal.ipynb",
      "provenance": [],
      "collapsed_sections": [],
      "authorship_tag": "ABX9TyMgGL3CrYZtgJ2dN15Od7/E",
      "include_colab_link": true
    },
    "kernelspec": {
      "name": "python3",
      "display_name": "Python 3"
    }
  },
  "cells": [
    {
      "cell_type": "markdown",
      "metadata": {
        "id": "view-in-github",
        "colab_type": "text"
      },
      "source": [
        "<a href=\"https://colab.research.google.com/github/Civan798/Ejemplos/blob/main/RegresionLineal.ipynb\" target=\"_parent\"><img src=\"https://colab.research.google.com/assets/colab-badge.svg\" alt=\"Open In Colab\"/></a>"
      ]
    },
    {
      "cell_type": "code",
      "metadata": {
        "id": "s5-XMIOz0vje"
      },
      "source": [
        "!pip install -q seaborn"
      ],
      "execution_count": 4,
      "outputs": []
    },
    {
      "cell_type": "code",
      "metadata": {
        "id": "igiLUkJL1Yfl"
      },
      "source": [
        "import matplotlib.pyplot as ptl\n",
        "import seaborn as sns; sns.set()\n",
        "import numpy as np\n",
        "\n"
      ],
      "execution_count": 6,
      "outputs": []
    },
    {
      "cell_type": "code",
      "metadata": {
        "id": "ck69TMP23BH-",
        "outputId": "636fd124-31c1-4017-c123-d11a1f1ce8b5",
        "colab": {
          "base_uri": "https://localhost:8080/",
          "height": 268
        }
      },
      "source": [
        "#Comenzaremos con la regresión lineal más familiar, un ajuste de línea recta a los datos.\n",
        "#Un ajuste en línea recta es un modelo de la forma y = ax + b\n",
        "#donde a se conoce comúnmente como pendiente y b se conoce comúnmente como intersección.\n",
        "rng = np.random.RandomState(1)\n",
        "x = 10 * rng.rand(50)\n",
        "y = 2 * x- 5 + rng.randn(50)\n",
        "ptl.scatter(x, y);"
      ],
      "execution_count": 11,
      "outputs": [
        {
          "output_type": "display_data",
          "data": {
            "image/png": "[encoded data removed]",
            "text/plain": [
              "<Figure size 432x288 with 1 Axes>"
            ]
          },
          "metadata": {
            "tags": []
          }
        }
      ]
    },
    {
      "cell_type": "code",
      "metadata": {
        "id": "QF951waE_yYX",
        "outputId": "0ebdcc97-486f-44f0-d588-ff2402b134d6",
        "colab": {
          "base_uri": "https://localhost:8080/",
          "height": 268
        }
      },
      "source": [
        "#Podemos usar el estimador de regresión lineal de Scikit-Learn para ajustar estos datos y construir la línea de mejor ajuste\n",
        "from sklearn.linear_model import LinearRegression\n",
        "model = LinearRegression(fit_intercept=True)\n",
        "\n",
        "model.fit(x[:, np.newaxis], y)\n",
        "\n",
        "xfit = np.linspace(0, 10, 1000)\n",
        "yfit = model.predict(xfit[:, np.newaxis])\n",
        "\n",
        "ptl.scatter(x, y)\n",
        "ptl.plot(xfit, yfit);"
      ],
      "execution_count": 13,
      "outputs": [
        {
          "output_type": "display_data",
          "data": {
            "image/png": "[encoded data removed]",
            "text/plain": [
              "<Figure size 432x288 with 1 Axes>"
            ]
          },
          "metadata": {
            "tags": []
          }
        }
      ]
    },
    {
      "cell_type": "code",
      "metadata": {
        "id": "4g3PbGZjAwn7",
        "outputId": "500e3ac7-ed1d-4b86-cfec-69ad1f4e437b",
        "colab": {
          "base_uri": "https://localhost:8080/",
          "height": 51
        }
      },
      "source": [
        "print(\"Model slope:    \", model.coef_[0])\n",
        "print(\"Model intercept:\", model.intercept_)"
      ],
      "execution_count": 14,
      "outputs": [
        {
          "output_type": "stream",
          "text": [
            "Model slope:     2.0272088103606953\n",
            "Model intercept: -4.998577085553204\n"
          ],
          "name": "stdout"
        }
      ]
    },
    {
      "cell_type": "markdown",
      "metadata": {
        "id": "sdxGTB_LBFXn"
      },
      "source": [
        "Vemos que los resultados están muy cerca de las entradas, como podríamos esperar."
      ]
    },
    {
      "cell_type": "code",
      "metadata": {
        "id": "TezBfHqfBHzs"
      },
      "source": [
        ""
      ],
      "execution_count": null,
      "outputs": []
    }
  ]
}