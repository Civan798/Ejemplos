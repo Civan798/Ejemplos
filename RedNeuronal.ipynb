{
  "nbformat": 4,
  "nbformat_minor": 0,
  "metadata": {
    "colab": {
      "name": "RedNeuronal.ipynb",
      "provenance": [],
      "authorship_tag": "ABX9TyPLytnoRJVyjdmHFvPcgyck",
      "include_colab_link": true
    },
    "kernelspec": {
      "name": "python3",
      "display_name": "Python 3"
    }
  },
  "cells": [
    {
      "cell_type": "markdown",
      "metadata": {
        "id": "view-in-github",
        "colab_type": "text"
      },
      "source": [
        "<a href=\"https://colab.research.google.com/github/Civan798/Ejemplos/blob/main/RedNeuronal.ipynb\" target=\"_parent\"><img src=\"https://colab.research.google.com/assets/colab-badge.svg\" alt=\"Open In Colab\"/></a>"
      ]
    },
    {
      "cell_type": "code",
      "metadata": {
        "id": "R1pBtMm6wCWF"
      },
      "source": [
        "import tensorflow as tf\n",
        "from tensorflow.keras.utils import to_categorical"
      ],
      "execution_count": 21,
      "outputs": []
    },
    {
      "cell_type": "code",
      "metadata": {
        "id": "eAO7ItmX_HnZ",
        "outputId": "c43fa993-b451-42c9-84c2-e376a1090565",
        "colab": {
          "base_uri": "https://localhost:8080/"
        }
      },
      "source": [
        "#Obtenemos y preparamos los datos de entrada\n",
        "(x_train, y_train), _= tf.keras.datasets.mnist.load_data()\n",
        "\n",
        "x_train = x_train.reshape(60000, 784).astype('float32')/255\n",
        "y_train = to_categorical(y_train, num_classes=10)\n",
        "\n",
        "#Definimos el modelo\n",
        "model = tf.keras.Sequential()\n",
        "model.add(tf.keras.layers.Dense(10, activation='sigmoid', input_shape=(784,)))\n",
        "model.add(tf.keras.layers.Dense(10, activation='softmax'))\n",
        "\n",
        "#Configuracion del proceso de learning\n",
        "model.compile(loss=\"categorical_crossentropy\", optimizer=\"sgd\", metrics=['accuracy'])\n",
        "\n",
        "#Entrenamiento del modelo\n",
        "_= model.fit(x_train, y_train, epochs=10, verbose=0)\n"
      ],
      "execution_count": 23,
      "outputs": [
        {
          "output_type": "stream",
          "text": [
            "Downloading data from https://storage.googleapis.com/tensorflow/tf-keras-datasets/mnist.npz\n",
            "11493376/11490434 [==============================] - 0s 0us/step\n"
          ],
          "name": "stdout"
        }
      ]
    },
    {
      "cell_type": "code",
      "metadata": {
        "id": "ej5RaDpTMktK"
      },
      "source": [
        "_, (x_test, _ )= tf.keras.datasets.mnist.load_data()\n",
        "x_test_ = x_test.reshape(10000, 784).astype('float32')/255"
      ],
      "execution_count": 24,
      "outputs": []
    },
    {
      "cell_type": "code",
      "metadata": {
        "id": "2bEfnEmTNaMR"
      },
      "source": [
        "image = 9"
      ],
      "execution_count": 46,
      "outputs": []
    },
    {
      "cell_type": "code",
      "metadata": {
        "id": "kIUWELsZL2xJ",
        "outputId": "31fe1686-f117-4b27-b567-1ab8cbca7771",
        "colab": {
          "base_uri": "https://localhost:8080/",
          "height": 265
        }
      },
      "source": [
        "import matplotlib.pyplot as plt\n",
        "_= plt.imshow(x_test[image], cmap=plt.cm.binary)"
      ],
      "execution_count": 47,
      "outputs": [
        {
          "output_type": "display_data",
          "data": {
            "image/png": "[encoded data removed]",
            "text/plain": [
              "<Figure size 432x288 with 1 Axes>"
            ]
          },
          "metadata": {
            "tags": [],
            "needs_background": "light"
          }
        }
      ]
    },
    {
      "cell_type": "code",
      "metadata": {
        "id": "Xs2A7ovONkm_",
        "outputId": "ab31f0e5-989a-4089-cdb8-b5b46dd1a535",
        "colab": {
          "base_uri": "https://localhost:8080/"
        }
      },
      "source": [
        "import numpy as np\n",
        "prediction = model.predict(x_test_)\n",
        "print(\"La prediccion indica: \", np.argmax(prediction[image]))"
      ],
      "execution_count": 48,
      "outputs": [
        {
          "output_type": "stream",
          "text": [
            "La prediccion indica:  9\n"
          ],
          "name": "stdout"
        }
      ]
    },
    {
      "cell_type": "code",
      "metadata": {
        "id": "UF1esdZ-Rvxc",
        "outputId": "a6042691-59c5-406f-d92a-6ce1e7fe0207",
        "colab": {
          "base_uri": "https://localhost:8080/"
        }
      },
      "source": [
        "print (prediction[image])"
      ],
      "execution_count": 49,
      "outputs": [
        {
          "output_type": "stream",
          "text": [
            "[3.2023147e-03 8.1693759e-04 1.5123014e-04 2.0193993e-03 6.9148518e-02\n",
            " 6.2378896e-03 8.5312728e-04 1.5964632e-01 9.3764020e-03 7.4854791e-01]\n"
          ],
          "name": "stdout"
        }
      ]
    }
  ]
}